{
  "nbformat": 4,
  "nbformat_minor": 0,
  "metadata": {
    "colab": {
      "provenance": []
    },
    "kernelspec": {
      "name": "python3",
      "display_name": "Python 3"
    },
    "language_info": {
      "name": "python"
    }
  },
  "cells": [
    {
      "cell_type": "markdown",
      "source": [
        "# Spell Check"
      ],
      "metadata": {
        "id": "DWFpojLVQj76"
      }
    },
    {
      "cell_type": "code",
      "source": [
        "!wget http://www.norvig.com/big.txt"
      ],
      "metadata": {
        "colab": {
          "base_uri": "https://localhost:8080/"
        },
        "id": "7XuMdbPnRCR8",
        "outputId": "bf1d4409-f62d-4cd2-81d9-76783ff50f8e"
      },
      "execution_count": 2,
      "outputs": [
        {
          "output_type": "stream",
          "name": "stdout",
          "text": [
            "--2022-12-12 21:36:06--  http://www.norvig.com/big.txt\n",
            "Resolving www.norvig.com (www.norvig.com)... 158.106.138.13\n",
            "Connecting to www.norvig.com (www.norvig.com)|158.106.138.13|:80... connected.\n",
            "HTTP request sent, awaiting response... 200 OK\n",
            "Length: 6488666 (6.2M) [text/plain]\n",
            "Saving to: ‘big.txt’\n",
            "\n",
            "big.txt             100%[===================>]   6.19M  14.5MB/s    in 0.4s    \n",
            "\n",
            "2022-12-12 21:36:06 (14.5 MB/s) - ‘big.txt’ saved [6488666/6488666]\n",
            "\n"
          ]
        }
      ]
    },
    {
      "cell_type": "code",
      "source": [
        "!wget http://www.norvig.com/spell-testset1.txt"
      ],
      "metadata": {
        "colab": {
          "base_uri": "https://localhost:8080/"
        },
        "id": "uUUKm2vsS04S",
        "outputId": "27eabe5f-7d77-4efd-8383-5eaecee4d21f"
      },
      "execution_count": 10,
      "outputs": [
        {
          "output_type": "stream",
          "name": "stdout",
          "text": [
            "--2022-12-12 21:43:54--  http://www.norvig.com/spell-testset1.txt\n",
            "Resolving www.norvig.com (www.norvig.com)... 158.106.138.13\n",
            "Connecting to www.norvig.com (www.norvig.com)|158.106.138.13|:80... connected.\n",
            "HTTP request sent, awaiting response... 200 OK\n",
            "Length: 3780 (3.7K) [text/plain]\n",
            "Saving to: ‘spell-testset1.txt’\n",
            "\n",
            "spell-testset1.txt  100%[===================>]   3.69K  --.-KB/s    in 0s      \n",
            "\n",
            "2022-12-12 21:43:55 (642 MB/s) - ‘spell-testset1.txt’ saved [3780/3780]\n",
            "\n"
          ]
        }
      ]
    },
    {
      "cell_type": "code",
      "source": [
        "!wget http://www.norvig.com/spell-testset2.txt"
      ],
      "metadata": {
        "colab": {
          "base_uri": "https://localhost:8080/"
        },
        "id": "uC1SRfWDS2Jj",
        "outputId": "6a23f529-3bdc-4e94-d08e-1d5661fd047d"
      },
      "execution_count": 12,
      "outputs": [
        {
          "output_type": "stream",
          "name": "stdout",
          "text": [
            "--2022-12-12 21:44:16--  http://www.norvig.com/spell-testset2.txt\n",
            "Resolving www.norvig.com (www.norvig.com)... 158.106.138.13\n",
            "Connecting to www.norvig.com (www.norvig.com)|158.106.138.13|:80... connected.\n",
            "HTTP request sent, awaiting response... 200 OK\n",
            "Length: 7518 (7.3K) [text/plain]\n",
            "Saving to: ‘spell-testset2.txt’\n",
            "\n",
            "\rspell-testset2.txt    0%[                    ]       0  --.-KB/s               \rspell-testset2.txt  100%[===================>]   7.34K  --.-KB/s    in 0s      \n",
            "\n",
            "2022-12-12 21:44:16 (107 MB/s) - ‘spell-testset2.txt’ saved [7518/7518]\n",
            "\n"
          ]
        }
      ]
    },
    {
      "cell_type": "code",
      "execution_count": 14,
      "metadata": {
        "id": "xJ8YFqboQdqH"
      },
      "outputs": [],
      "source": [
        "import re\n",
        "from collections import Counter\n",
        "\n",
        "def words(text): return re.findall(r'\\w+', text.lower())\n",
        "\n",
        "WORDS = Counter(words(open('big.txt').read()))\n",
        "\n",
        "def P(word, N=sum(WORDS.values())): \n",
        "    \"Probability of `word`.\"\n",
        "    return WORDS[word] / N\n",
        "\n",
        "def correction(word): \n",
        "    \"Most probable spelling correction for word.\"\n",
        "    return max(candidates(word), key=P)\n",
        "\n",
        "def candidates(word): \n",
        "    \"Generate possible spelling corrections for word.\"\n",
        "    return (known([word]) or known(edits1(word)) or known(edits2(word)) or [word])\n",
        "\n",
        "def known(words): \n",
        "    \"The subset of `words` that appear in the dictionary of WORDS.\"\n",
        "    return set(w for w in words if w in WORDS)\n",
        "\n",
        "def edits1(word):\n",
        "    \"All edits that are one edit away from `word`.\"\n",
        "    letters    = 'abcdefghijklmnopqrstuvwxyz'\n",
        "    splits     = [(word[:i], word[i:])    for i in range(len(word) + 1)]\n",
        "    deletes    = [L + R[1:]               for L, R in splits if R]\n",
        "    transposes = [L + R[1] + R[0] + R[2:] for L, R in splits if len(R)>1]\n",
        "    replaces   = [L + c + R[1:]           for L, R in splits if R for c in letters]\n",
        "    inserts    = [L + c + R               for L, R in splits for c in letters]\n",
        "    return set(deletes + transposes + replaces + inserts)\n",
        "\n",
        "def edits2(word): \n",
        "    \"All edits that are two edits away from `word`.\"\n",
        "    return (e2 for e1 in edits1(word) for e2 in edits1(e1))\n",
        "\n",
        "################ Test Code \n",
        "\n",
        "\n",
        "def spelltest(tests, verbose=False):\n",
        "    \"Run correction(wrong) on all (right, wrong) pairs; report results.\"\n",
        "    import time\n",
        "    start = time.process_time()\n",
        "    good, unknown = 0, 0\n",
        "    n = len(tests)\n",
        "    for right, wrong in tests:\n",
        "        w = correction(wrong)\n",
        "        good += (w == right)\n",
        "        if w != right:\n",
        "            unknown += (right not in WORDS)\n",
        "            if verbose:\n",
        "                print('correction({}) => {} ({}); expected {} ({})'\n",
        "                      .format(wrong, w, WORDS[w], right, WORDS[right]))\n",
        "    dt = time.process_time() - start\n",
        "    print('{:.0%} of {} correct ({:.0%} unknown) at {:.0f} words per second '\n",
        "          .format(good / n, n, unknown / n, n / dt))\n",
        "    \n",
        "def Testset(lines):\n",
        "    \"Parse 'right: wrong1 wrong2' lines into [('right', 'wrong1'), ('right', 'wrong2')] pairs.\"\n",
        "    return [(right, wrong)\n",
        "            for (right, wrongs) in (line.split(':') for line in lines)\n",
        "            for wrong in wrongs.split()]"
      ]
    },
    {
      "cell_type": "code",
      "source": [
        "# Number of unique words\n",
        "len(WORDS)"
      ],
      "metadata": {
        "colab": {
          "base_uri": "https://localhost:8080/"
        },
        "id": "z7tQyFAqUGC8",
        "outputId": "b49044f5-f328-49ca-b784-135742209720"
      },
      "execution_count": 19,
      "outputs": [
        {
          "output_type": "execute_result",
          "data": {
            "text/plain": [
              "32198"
            ]
          },
          "metadata": {},
          "execution_count": 19
        }
      ]
    },
    {
      "cell_type": "code",
      "source": [
        "# total appearance of these words\n",
        "sum(WORDS.values())"
      ],
      "metadata": {
        "colab": {
          "base_uri": "https://localhost:8080/"
        },
        "id": "opwcyinPULcO",
        "outputId": "b4c04975-2fdd-44ce-e2bc-9d93260ca50a"
      },
      "execution_count": 20,
      "outputs": [
        {
          "output_type": "execute_result",
          "data": {
            "text/plain": [
              "1115585"
            ]
          },
          "metadata": {},
          "execution_count": 20
        }
      ]
    },
    {
      "cell_type": "code",
      "source": [
        "text = \"vrong speling\""
      ],
      "metadata": {
        "id": "iX3ps8y7RMZT"
      },
      "execution_count": 4,
      "outputs": []
    },
    {
      "cell_type": "code",
      "source": [
        "words(text)"
      ],
      "metadata": {
        "colab": {
          "base_uri": "https://localhost:8080/"
        },
        "id": "NhbmksOtRkJf",
        "outputId": "5a06fb40-f96a-4beb-e7fe-32176efa9f43"
      },
      "execution_count": 5,
      "outputs": [
        {
          "output_type": "execute_result",
          "data": {
            "text/plain": [
              "['vrong', 'speling']"
            ]
          },
          "metadata": {},
          "execution_count": 5
        }
      ]
    },
    {
      "cell_type": "code",
      "source": [
        "for w in words(text):\n",
        "    print(P(w))"
      ],
      "metadata": {
        "colab": {
          "base_uri": "https://localhost:8080/"
        },
        "id": "Sk_lYr7NSgxQ",
        "outputId": "b03fa833-d17d-4d55-a1fb-382ddcacaa0d"
      },
      "execution_count": 8,
      "outputs": [
        {
          "output_type": "stream",
          "name": "stdout",
          "text": [
            "0.0\n",
            "0.0\n"
          ]
        }
      ]
    },
    {
      "cell_type": "code",
      "source": [
        "for w in words(text):\n",
        "    print(candidates(w))"
      ],
      "metadata": {
        "colab": {
          "base_uri": "https://localhost:8080/"
        },
        "id": "wPwoeUkWSmBZ",
        "outputId": "c09aa154-5079-4c8c-9ba4-2a2f888899fa"
      },
      "execution_count": 9,
      "outputs": [
        {
          "output_type": "stream",
          "name": "stdout",
          "text": [
            "{'wrong'}\n",
            "{'spelling'}\n"
          ]
        }
      ]
    },
    {
      "cell_type": "code",
      "source": [
        "for w in words(text):\n",
        "    print(correction(w))"
      ],
      "metadata": {
        "colab": {
          "base_uri": "https://localhost:8080/"
        },
        "id": "yd_l63Z1SBr6",
        "outputId": "d87ba326-de7c-49ec-c890-65fbf0e77927"
      },
      "execution_count": 7,
      "outputs": [
        {
          "output_type": "stream",
          "name": "stdout",
          "text": [
            "wrong\n",
            "spelling\n"
          ]
        }
      ]
    },
    {
      "cell_type": "code",
      "source": [
        "spelltest(Testset(open('spell-testset1.txt'))) # Development set"
      ],
      "metadata": {
        "colab": {
          "base_uri": "https://localhost:8080/"
        },
        "id": "ACOj1UigTBFo",
        "outputId": "876b9282-baa0-4fb8-ba2c-78cdcdfbfa6d"
      },
      "execution_count": 15,
      "outputs": [
        {
          "output_type": "stream",
          "name": "stdout",
          "text": [
            "75% of 270 correct (6% unknown) at 37 words per second \n"
          ]
        }
      ]
    },
    {
      "cell_type": "code",
      "source": [
        "spelltest(Testset(open('spell-testset2.txt'))) # Final test set"
      ],
      "metadata": {
        "colab": {
          "base_uri": "https://localhost:8080/"
        },
        "id": "UJeFwxFRTe5T",
        "outputId": "8a80649d-b76c-4e8d-d1a4-f933f27daa0c"
      },
      "execution_count": 16,
      "outputs": [
        {
          "output_type": "stream",
          "name": "stdout",
          "text": [
            "68% of 400 correct (11% unknown) at 32 words per second \n"
          ]
        }
      ]
    }
  ]
}